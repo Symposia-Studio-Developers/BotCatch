{
 "cells": [
  {
   "cell_type": "code",
   "execution_count": null,
   "metadata": {},
   "outputs": [],
   "source": [
    "import numpy as np # linear algebra\n",
    "import pandas as pd # data processing, CSV file I/O (e.g. pd.read_csv)\n",
    "\n",
    "from sklearn.model_selection import train_test_split\n",
    "\n",
    "import tensorflow as tf\n",
    "from tensorflow import keras\n",
    "from tensorflow.keras import layers\n",
    "\n",
    "# running this (by clicking run or pressing Shift+Enter) will list all files under the input directory\n",
    "import os\n",
    "for dirname, _, filenames in os.walk('./data'):\n",
    "    for filename in filenames:\n",
    "        print(os.path.join(dirname, filename))"
   ]
  },
  {
   "cell_type": "code",
   "execution_count": null,
   "metadata": {},
   "outputs": [],
   "source": [
    "columns = \"diggCount,followerCount,followingCount,friendCount,heart,heartCount,videoCount,commentSetting,downloadSetting,duetSetting,ftc,id,isADVirtual,openFavorite,privateAccount,relation,secUid,secret,stitchSetting,ttSeller,uniqueId,verified,start_time,end_time\"\n",
    "columns = columns.split(\",\")\n",
    "print(len(columns))"
   ]
  },
  {
   "cell_type": "code",
   "execution_count": null,
   "metadata": {},
   "outputs": [],
   "source": [
    "BOT_SAMPLE_PATH = \"./data/(Bot)MS4wLjABAAAAjWwD0Jc8lbtGpBx4OR9J3m7pk8SvJJkGkqoSkD14qtUV-zv3bziOz_DMlijUI1tx/MS4wLjABAAAAMjZCZFV07JIfz6bAWn26lZ4NrflWisZ0m4v9gzOeWLmL0YwNCyyO8dFHc5ynaae9_Following.csv\"\n",
    "HUMAN_SAMPLE_PATH = \"./data/(Human)MS4wLjABAAAA-lJGNCxnVJMIQAKhR8hGzLcdFxWML5Nw9SXYzjFQlvJgOX7tFsjWvmyoxzMNum-W/MS4wLjABAAAA_QZOnFJDsnDIPiHHo6uGW50YuH-yAeLruWouqmtqKKbYQb1AbcM8fKzB8I3qEd7l_Following.csv\"\n",
    "columns = ['diggCount', 'followerCount', 'followingCount', 'friendCount', 'heart', 'heartCount', 'videoCount', 'commentSetting', 'downloadSetting', 'duetSetting', 'ftc', 'id', 'isADVirtual', 'openFavorite', 'privateAccount', 'relation', 'secUid', 'secret', 'stitchSetting', 'ttSeller', 'uniqueId', 'verified', 'start_time', 'end_time', 'extra_data']\n",
    "\n",
    "bot_data = pd.read_csv(BOT_SAMPLE_PATH, names=columns,header=None)\n",
    "human_data = pd.read_csv(HUMAN_SAMPLE_PATH, names=columns,header=None)\n",
    "# data labeling\n",
    "bot_data['fake'] = 1\n",
    "human_data['fake'] = 0\n",
    "input_data = pd.concat([bot_data, human_data])\n",
    "train_data, test_data = train_test_split(input_data, test_size=0.3)\n",
    "\n",
    "Y_train = train_data[\"fake\"]\n",
    "X_train = train_data.drop(\"fake\", axis=1)\n",
    "Y_test = test_data[\"fake\"]\n",
    "X_test = test_data.drop(\"fake\", axis = 1)"
   ]
  },
  {
   "cell_type": "code",
   "execution_count": null,
   "metadata": {},
   "outputs": [],
   "source": [
    "import keras\n",
    "from keras.layers import *\n",
    "model = keras.models.Sequential()\n",
    "model.add(Dense(50, input_dim = 11, activation=\"relu\"))\n",
    "model.add(Dense(20, activation=\"relu\"))\n",
    "model.add(Dense(1, activation=\"sigmoid\"))"
   ]
  },
  {
   "cell_type": "code",
   "execution_count": null,
   "metadata": {},
   "outputs": [],
   "source": [
    "from keras import metrics\n",
    "model.compile(optimizer=\"adam\", loss = \"binary_crossentropy\", metrics=[keras.metrics.Precision(), keras.metrics.Recall()])\n",
    "model.fit(X_train, Y_train, batch_size = 40000, epochs = 200, verbose = 0)\n",
    "loss = model.evaluate(X_test, Y_test, verbose=1)"
   ]
  },
  {
   "cell_type": "code",
   "execution_count": null,
   "metadata": {},
   "outputs": [],
   "source": [
    "model.summary()\n",
    "print(loss)"
   ]
  },
  {
   "cell_type": "code",
   "execution_count": null,
   "metadata": {},
   "outputs": [],
   "source": [
    "# predictions on new data\n",
    "\n",
    "import csv\n",
    "\n",
    "fake = 0\n",
    "with open('fakeAcc', 'w') as csv_file:\n",
    "    write = csv.writer(csv_file, delimiter=',')\n",
    "    with open('./data/(Human)MS4wLjABAAAA-lJGNCxnVJMIQAKhR8hGzLcdFxWML5Nw9SXYzjFQlvJgOX7tFsjWvmyoxzMNum-W/MS4wLjABAAAA_QZOnFJDsnDIPiHHo6uGW50YuH-yAeLruWouqmtqKKbYQb1AbcM8fKzB8I3qEd7l_Following.csv', 'rt', encoding='UTF8') as csvfile:\n",
    "        readCSV = csv.reader(csvfile, delimiter=',', lineterminator='\\n')\n",
    "        for row in readCSV:\n",
    "                y_pred = model.predict(row)\n",
    "\n",
    "                if y_pred[0] == 1:\n",
    "                    fake+= 1  \n",
    "\n",
    "                #Write to file \n",
    "\n",
    "                write.writerow([user, y_pred[0]])"
   ]
  }
 ],
 "metadata": {
  "kernelspec": {
   "display_name": "Python 3",
   "language": "python",
   "name": "python3"
  },
  "language_info": {
   "codemirror_mode": {
    "name": "ipython",
    "version": 3
   },
   "file_extension": ".py",
   "mimetype": "text/x-python",
   "name": "python",
   "nbconvert_exporter": "python",
   "pygments_lexer": "ipython3",
   "version": "3.9.6"
  }
 },
 "nbformat": 4,
 "nbformat_minor": 2
}
